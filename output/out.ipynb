{
 "cells": [
  {
   "cell_type": "code",
   "execution_count": 1,
   "id": "8ffb19ea",
   "metadata": {},
   "outputs": [],
   "source": [
    "import pandas as pd\n",
    "import numpy as np\n",
    "import matplotlib.pyplot as plt\n"
   ]
  },
  {
   "cell_type": "code",
   "execution_count": 2,
   "id": "895ce508",
   "metadata": {},
   "outputs": [
    {
     "data": {
      "text/html": [
       "<div>\n",
       "<style scoped>\n",
       "    .dataframe tbody tr th:only-of-type {\n",
       "        vertical-align: middle;\n",
       "    }\n",
       "\n",
       "    .dataframe tbody tr th {\n",
       "        vertical-align: top;\n",
       "    }\n",
       "\n",
       "    .dataframe thead th {\n",
       "        text-align: right;\n",
       "    }\n",
       "</style>\n",
       "<table border=\"1\" class=\"dataframe\">\n",
       "  <thead>\n",
       "    <tr style=\"text-align: right;\">\n",
       "      <th></th>\n",
       "      <th>num</th>\n",
       "      <th>epoch</th>\n",
       "      <th>resx</th>\n",
       "      <th>resy</th>\n",
       "      <th>resz</th>\n",
       "      <th>x</th>\n",
       "      <th>y</th>\n",
       "      <th>z</th>\n",
       "    </tr>\n",
       "  </thead>\n",
       "  <tbody>\n",
       "    <tr>\n",
       "      <th>0</th>\n",
       "      <td>0</td>\n",
       "      <td>8.045255</td>\n",
       "      <td>-0.251000</td>\n",
       "      <td>-0.180000</td>\n",
       "      <td>0.002000</td>\n",
       "      <td>-0.059352</td>\n",
       "      <td>-0.273889</td>\n",
       "      <td>-0.538861</td>\n",
       "    </tr>\n",
       "    <tr>\n",
       "      <th>1</th>\n",
       "      <td>1</td>\n",
       "      <td>8.045313</td>\n",
       "      <td>-0.070511</td>\n",
       "      <td>-0.187449</td>\n",
       "      <td>-0.220024</td>\n",
       "      <td>-0.019216</td>\n",
       "      <td>-0.222871</td>\n",
       "      <td>-0.335365</td>\n",
       "    </tr>\n",
       "    <tr>\n",
       "      <th>2</th>\n",
       "      <td>2</td>\n",
       "      <td>8.045370</td>\n",
       "      <td>0.075839</td>\n",
       "      <td>-0.276919</td>\n",
       "      <td>0.305317</td>\n",
       "      <td>-0.085931</td>\n",
       "      <td>-0.430794</td>\n",
       "      <td>-0.260023</td>\n",
       "    </tr>\n",
       "    <tr>\n",
       "      <th>3</th>\n",
       "      <td>3</td>\n",
       "      <td>8.045428</td>\n",
       "      <td>0.092773</td>\n",
       "      <td>-0.097095</td>\n",
       "      <td>-0.257730</td>\n",
       "      <td>0.350238</td>\n",
       "      <td>1.015425</td>\n",
       "      <td>1.149710</td>\n",
       "    </tr>\n",
       "    <tr>\n",
       "      <th>4</th>\n",
       "      <td>4</td>\n",
       "      <td>8.045486</td>\n",
       "      <td>0.661839</td>\n",
       "      <td>-0.820218</td>\n",
       "      <td>0.162701</td>\n",
       "      <td>0.064116</td>\n",
       "      <td>-0.004770</td>\n",
       "      <td>0.113809</td>\n",
       "    </tr>\n",
       "  </tbody>\n",
       "</table>\n",
       "</div>"
      ],
      "text/plain": [
       "   num     epoch      resx      resy      resz         x         y         z\n",
       "0    0  8.045255 -0.251000 -0.180000  0.002000 -0.059352 -0.273889 -0.538861\n",
       "1    1  8.045313 -0.070511 -0.187449 -0.220024 -0.019216 -0.222871 -0.335365\n",
       "2    2  8.045370  0.075839 -0.276919  0.305317 -0.085931 -0.430794 -0.260023\n",
       "3    3  8.045428  0.092773 -0.097095 -0.257730  0.350238  1.015425  1.149710\n",
       "4    4  8.045486  0.661839 -0.820218  0.162701  0.064116 -0.004770  0.113809"
      ]
     },
     "execution_count": 2,
     "metadata": {},
     "output_type": "execute_result"
    }
   ],
   "source": [
    "df = pd.read_csv(\"out.csv\")\n",
    "df.head()"
   ]
  },
  {
   "cell_type": "code",
   "execution_count": 3,
   "id": "df625b53",
   "metadata": {},
   "outputs": [
    {
     "data": {
      "image/png": "[encoded data removed]",
      "text/plain": [
       "<Figure size 720x504 with 2 Axes>"
      ]
     },
     "metadata": {
      "needs_background": "light"
     },
     "output_type": "display_data"
    }
   ],
   "source": [
    "fig, ax = plt.subplots(2, 1, figsize=(10, 7))\n",
    "ax[0].plot(np.array(df['epoch']), np.array(df['resx']), '.', label=\"res_x\")\n",
    "ax[0].plot(np.array(df['epoch']), np.array(df['resy']), '.', label=\"res_y\")\n",
    "ax[0].plot(np.array(df['epoch']), np.array(df['resz']), '.', label=\"res_z\")\n",
    "ax[0].grid()\n",
    "ax[0].set_xlabel(\"epoch\")\n",
    "ax[0].set_ylabel(\"residual, m\")\n",
    "ax[0].legend()\n",
    "\n",
    "ax[1].plot(np.array(df['epoch']), np.array(df['x']), '.', label=\"x\")\n",
    "# ax[0].plot(np.array(df['epoch']), np.array(df['resy']), '.', label=\"res_y\")\n",
    "# ax[0].plot(np.array(df['epoch']), np.array(df['resz']), '.', label=\"res_z\")\n",
    "ax[1].grid()\n",
    "ax[1].set_xlabel(\"epoch\")\n",
    "ax[1].set_ylabel(\"position, m\")\n",
    "ax[1].legend()\n",
    "plt.savefig(\"plot.png\", dpi=300)"
   ]
  },
  {
   "cell_type": "code",
   "execution_count": null,
   "id": "457b7a6c",
   "metadata": {},
   "outputs": [],
   "source": []
  }
 ],
 "metadata": {
  "kernelspec": {
   "display_name": "Python 3",
   "language": "python",
   "name": "python3"
  },
  "language_info": {
   "codemirror_mode": {
    "name": "ipython",
    "version": 3
   },
   "file_extension": ".py",
   "mimetype": "text/x-python",
   "name": "python",
   "nbconvert_exporter": "python",
   "pygments_lexer": "ipython3",
   "version": "3.8.5"
  }
 },
 "nbformat": 4,
 "nbformat_minor": 5
}
