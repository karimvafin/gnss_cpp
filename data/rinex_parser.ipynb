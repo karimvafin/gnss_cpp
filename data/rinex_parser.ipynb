{
 "cells": [
  {
   "cell_type": "code",
   "execution_count": 194,
   "id": "dc669c9e",
   "metadata": {},
   "outputs": [],
   "source": [
    "import georinex as gr\n",
    "import numpy as np\n",
    "import xarray as xr\n",
    "import json"
   ]
  },
  {
   "cell_type": "code",
   "execution_count": 195,
   "id": "917d6c15",
   "metadata": {},
   "outputs": [],
   "source": [
    "# rinex files with rover obs data\n",
    "rover_data_file1 = '../data/50BR_VRS1018n.24o'\n",
    "rover_data_file2 = '../data/50BR_VRS1018o.24o'"
   ]
  },
  {
   "cell_type": "code",
   "execution_count": 196,
   "id": "5bbd64fd",
   "metadata": {},
   "outputs": [],
   "source": [
    "# rinex files with station obs data\n",
    "station_data_file1 = '../data/int.50BRM018n.24o'\n",
    "station_data_file2 = '../data/int.50BRM018o.24o'"
   ]
  },
  {
   "cell_type": "code",
   "execution_count": 197,
   "id": "f4ad4ed3",
   "metadata": {},
   "outputs": [],
   "source": [
    "# C1W, C2W - pseudo range; L1W, L2W - carrier phase\n",
    "rover_obs1 = gr.load(rover_data_file1, use='G', meas=['C1W', 'L1W', 'C2W', 'L2W']).dropna(dim='time', how='all')\n",
    "rover_obs2 = gr.load(rover_data_file2, use='G', meas=['C1W', 'L1W', 'C2W', 'L2W']).dropna(dim='time', how='all')\n",
    "station_obs1 = gr.load(station_data_file1, use='G', meas=['C1W', 'L1W', 'C2W', 'L2W']).dropna(dim='time', how='all')\n",
    "station_obs2 = gr.load(station_data_file2, use='G', meas=['C1W', 'L1W', 'C2W', 'L2W']).dropna(dim='time', how='all')"
   ]
  },
  {
   "cell_type": "code",
   "execution_count": 198,
   "id": "7c064cda",
   "metadata": {},
   "outputs": [],
   "source": [
    "rover_obs = xr.concat((rover_obs1, rover_obs2), dim='time')\n",
    "station_obs = xr.concat((station_obs1, station_obs2), dim='time')"
   ]
  },
  {
   "cell_type": "code",
   "execution_count": 199,
   "id": "e59f58b9",
   "metadata": {},
   "outputs": [],
   "source": [
    "times_rover_obs = rover_obs.time.data\n",
    "times_station_obs = station_obs.time.data"
   ]
  },
  {
   "cell_type": "code",
   "execution_count": 200,
   "id": "505985a9",
   "metadata": {},
   "outputs": [],
   "source": [
    "rover_dct_to_save = {}\n",
    "for t in times_rover_obs:\n",
    "    obs_rover_pd_temp = rover_obs.sel(time=t).to_pandas().reset_index().dropna()    \n",
    "    del obs_rover_pd_temp['time']\n",
    "    obs_rover_pd_temp = {str(t): obs_rover_pd_temp.to_dict('list')}\n",
    "    rover_dct_to_save.update(obs_rover_pd_temp)"
   ]
  },
  {
   "cell_type": "code",
   "execution_count": 202,
   "id": "4c0405d8",
   "metadata": {},
   "outputs": [],
   "source": [
    "station_dct_to_save = {}\n",
    "for t in times_station_obs:\n",
    "    obs_station_pd_temp = station_obs.sel(time=t).to_pandas().reset_index().dropna()    \n",
    "    del obs_station_pd_temp['time']\n",
    "    obs_station_pd_temp = {str(t): obs_station_pd_temp.to_dict('list')}\n",
    "    station_dct_to_save.update(obs_station_pd_temp)"
   ]
  },
  {
   "cell_type": "code",
   "execution_count": 205,
   "id": "5a020b3f",
   "metadata": {},
   "outputs": [],
   "source": [
    "with open('../data/rover_data.json', 'w') as f:\n",
    "    json.dump(rover_dct_to_save, f)"
   ]
  },
  {
   "cell_type": "code",
   "execution_count": 206,
   "id": "67551428",
   "metadata": {},
   "outputs": [],
   "source": [
    "with open('../data/station_data.json', 'w') as f:\n",
    "    json.dump(station_dct_to_save, f)"
   ]
  },
  {
   "cell_type": "code",
   "execution_count": 213,
   "id": "77228b6a",
   "metadata": {},
   "outputs": [],
   "source": [
    "\n",
    "np.savetxt(\"../data/rover_times.csv\", times_rover_obs, delimiter=',')"
   ]
  },
  {
   "cell_type": "code",
   "execution_count": 214,
   "id": "ea3b83e8",
   "metadata": {},
   "outputs": [
    {
     "data": {
      "text/plain": [
       "array(['2024-01-18T13:05:10.000000000', '2024-01-18T13:05:15.000000000',\n",
       "       '2024-01-18T13:05:20.000000000', ...,\n",
       "       '2024-01-18T14:44:45.000000000', '2024-01-18T14:44:50.000000000',\n",
       "       '2024-01-18T14:44:55.000000000'], dtype='datetime64[ns]')"
      ]
     },
     "execution_count": 214,
     "metadata": {},
     "output_type": "execute_result"
    }
   ],
   "source": [
    "times_rover_obs"
   ]
  },
  {
   "cell_type": "code",
   "execution_count": null,
   "id": "ebe6188b",
   "metadata": {},
   "outputs": [],
   "source": []
  }
 ],
 "metadata": {
  "kernelspec": {
   "display_name": "Python 3",
   "language": "python",
   "name": "python3"
  },
  "language_info": {
   "codemirror_mode": {
    "name": "ipython",
    "version": 3
   },
   "file_extension": ".py",
   "mimetype": "text/x-python",
   "name": "python",
   "nbconvert_exporter": "python",
   "pygments_lexer": "ipython3",
   "version": "3.8.5"
  }
 },
 "nbformat": 4,
 "nbformat_minor": 5
}
